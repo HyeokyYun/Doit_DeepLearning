{
  "nbformat": 4,
  "nbformat_minor": 0,
  "metadata": {
    "colab": {
      "name": "최소한의도구로시작합니다.ipynb",
      "provenance": [],
      "authorship_tag": "ABX9TyMa4Ue40/IcMYyCslzo+U00",
      "include_colab_link": true
    },
    "kernelspec": {
      "name": "python3",
      "display_name": "Python 3"
    }
  },
  "cells": [
    {
      "cell_type": "markdown",
      "metadata": {
        "id": "view-in-github",
        "colab_type": "text"
      },
      "source": [
        "<a href=\"https://colab.research.google.com/github/HyeokyYun/Doit_DeepLearning/blob/main/%EC%B5%9C%EC%86%8C%ED%95%9C%EC%9D%98%EB%8F%84%EA%B5%AC%EB%A1%9C%EC%8B%9C%EC%9E%91%ED%95%A9%EB%8B%88%EB%8B%A4.ipynb\" target=\"_parent\"><img src=\"https://colab.research.google.com/assets/colab-badge.svg\" alt=\"Open In Colab\"/></a>"
      ]
    },
    {
      "cell_type": "code",
      "metadata": {
        "id": "wK0dbDeOadu3"
      },
      "source": [
        "my_list = [10, 'hello list', 20]"
      ],
      "execution_count": 1,
      "outputs": []
    },
    {
      "cell_type": "code",
      "metadata": {
        "colab": {
          "base_uri": "https://localhost:8080/"
        },
        "id": "GuBt-KJZalRy",
        "outputId": "8f9104ef-5b42-4991-cb1a-2bffc50033d7"
      },
      "source": [
        "print(my_list[1])"
      ],
      "execution_count": 3,
      "outputs": [
        {
          "output_type": "stream",
          "text": [
            "hello list\n"
          ],
          "name": "stdout"
        }
      ]
    },
    {
      "cell_type": "code",
      "metadata": {
        "colab": {
          "base_uri": "https://localhost:8080/"
        },
        "id": "SeWljx8PapqC",
        "outputId": "80be8344-393c-4553-9a88-4fb3dda306c0"
      },
      "source": [
        "my_list2 = [[10, 20, 30], [40, 50, 60]]\r\n",
        "print(my_list2[1][1])"
      ],
      "execution_count": 5,
      "outputs": [
        {
          "output_type": "stream",
          "text": [
            "50\n"
          ],
          "name": "stdout"
        }
      ]
    },
    {
      "cell_type": "code",
      "metadata": {
        "colab": {
          "base_uri": "https://localhost:8080/"
        },
        "id": "YDap36tiayNv",
        "outputId": "97434f00-14f2-4576-ca0f-c980575e8c72"
      },
      "source": [
        "import numpy as np\r\n",
        "print(np.__version__)"
      ],
      "execution_count": 7,
      "outputs": [
        {
          "output_type": "stream",
          "text": [
            "1.19.5\n"
          ],
          "name": "stdout"
        }
      ]
    },
    {
      "cell_type": "code",
      "metadata": {
        "colab": {
          "base_uri": "https://localhost:8080/"
        },
        "id": "wWRK9OoYa6f6",
        "outputId": "e192473b-177e-4815-81d2-89355536cba8"
      },
      "source": [
        "my_arr=np.array([[10, 20, 30], [40, 50, 60]])\r\n",
        "print(my_arr)"
      ],
      "execution_count": 9,
      "outputs": [
        {
          "output_type": "stream",
          "text": [
            "[[10 20 30]\n",
            " [40 50 60]]\n"
          ],
          "name": "stdout"
        }
      ]
    },
    {
      "cell_type": "code",
      "metadata": {
        "colab": {
          "base_uri": "https://localhost:8080/"
        },
        "id": "jLFQr6WxbC8Q",
        "outputId": "9c3fa692-e760-45cf-a824-c30aa712a1a9"
      },
      "source": [
        "type(my_arr)"
      ],
      "execution_count": 12,
      "outputs": [
        {
          "output_type": "execute_result",
          "data": {
            "text/plain": [
              "numpy.ndarray"
            ]
          },
          "metadata": {
            "tags": []
          },
          "execution_count": 12
        }
      ]
    },
    {
      "cell_type": "code",
      "metadata": {
        "colab": {
          "base_uri": "https://localhost:8080/"
        },
        "id": "FuU3TV53bISi",
        "outputId": "03d21a17-0364-4c5f-e9db-8d16c84dad7d"
      },
      "source": [
        "my_arr[0][2]"
      ],
      "execution_count": 13,
      "outputs": [
        {
          "output_type": "execute_result",
          "data": {
            "text/plain": [
              "30"
            ]
          },
          "metadata": {
            "tags": []
          },
          "execution_count": 13
        }
      ]
    },
    {
      "cell_type": "code",
      "metadata": {
        "colab": {
          "base_uri": "https://localhost:8080/"
        },
        "id": "8SnOVLLrbKU7",
        "outputId": "3b08d24b-12c6-4a95-b87d-8c9fd6da09dd"
      },
      "source": [
        "np.sum(my_arr)"
      ],
      "execution_count": 14,
      "outputs": [
        {
          "output_type": "execute_result",
          "data": {
            "text/plain": [
              "210"
            ]
          },
          "metadata": {
            "tags": []
          },
          "execution_count": 14
        }
      ]
    },
    {
      "cell_type": "code",
      "metadata": {
        "id": "dmvm-0plbMcY"
      },
      "source": [
        "import matplotlib.pyplot as plt\r\n"
      ],
      "execution_count": 15,
      "outputs": []
    },
    {
      "cell_type": "code",
      "metadata": {
        "colab": {
          "base_uri": "https://localhost:8080/",
          "height": 265
        },
        "id": "Ia9Wz4fVbRpi",
        "outputId": "b9a25d57-a76c-405c-918a-7825141a18ef"
      },
      "source": [
        "plt.plot([1, 2, 3, 4, 5], [1, 4, 9, 16, 25])\r\n",
        "plt.show()"
      ],
      "execution_count": 16,
      "outputs": [
        {
          "output_type": "display_data",
          "data": {
            "image/png": "[encoded data removed]",
            "text/plain": [
              "<Figure size 432x288 with 1 Axes>"
            ]
          },
          "metadata": {
            "tags": [],
            "needs_background": "light"
          }
        }
      ]
    },
    {
      "cell_type": "code",
      "metadata": {
        "colab": {
          "base_uri": "https://localhost:8080/",
          "height": 265
        },
        "id": "69Y4aRS2bYvC",
        "outputId": "d4431640-595c-4c23-faed-1af9bb274741"
      },
      "source": [
        "plt.scatter([1, 2, 3, 4, 5], [1, 4, 9, 16, 25])\r\n",
        "plt.show()"
      ],
      "execution_count": 17,
      "outputs": [
        {
          "output_type": "display_data",
          "data": {
            "image/png": "[encoded data removed]",
            "text/plain": [
              "<Figure size 432x288 with 1 Axes>"
            ]
          },
          "metadata": {
            "tags": [],
            "needs_background": "light"
          }
        }
      ]
    },
    {
      "cell_type": "code",
      "metadata": {
        "colab": {
          "base_uri": "https://localhost:8080/",
          "height": 266
        },
        "id": "H2odKO2HbghH",
        "outputId": "1d02ec33-a00c-400b-e104-4eba17a5ec4c"
      },
      "source": [
        "x = np.random.randn(1000)\r\n",
        "y = np.random.randn(1000)\r\n",
        "plt.scatter(x, y)\r\n",
        "plt.show()"
      ],
      "execution_count": 20,
      "outputs": [
        {
          "output_type": "display_data",
          "data": {
            "image/png": "[encoded data removed]",
            "text/plain": [
              "<Figure size 432x288 with 1 Axes>"
            ]
          },
          "metadata": {
            "tags": [],
            "needs_background": "light"
          }
        }
      ]
    },
    {
      "cell_type": "code",
      "metadata": {
        "id": "2nVFV3_5bvuc"
      },
      "source": [
        ""
      ],
      "execution_count": null,
      "outputs": []
    }
  ]
}